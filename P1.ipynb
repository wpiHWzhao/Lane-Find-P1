{
 "cells": [
  {
   "cell_type": "markdown",
   "metadata": {},
   "source": [
    "# Self-Driving Car Engineer Nanodegree\n",
    "\n",
    "\n",
    "## Project: **Finding Lane Lines on the Road** \n",
    "***\n",
    "In this project, you will use the tools you learned about in the lesson to identify lane lines on the road.  You can develop your pipeline on a series of individual images, and later apply the result to a video stream (really just a series of images). Check out the video clip \"raw-lines-example.mp4\" (also contained in this repository) to see what the output should look like after using the helper functions below. \n",
    "\n",
    "Once you have a result that looks roughly like \"raw-lines-example.mp4\", you'll need to get creative and try to average and/or extrapolate the line segments you've detected to map out the full extent of the lane lines.  You can see an example of the result you're going for in the video \"P1_example.mp4\".  Ultimately, you would like to draw just one line for the left side of the lane, and one for the right.\n",
    "\n",
    "In addition to implementing code, there is a brief writeup to complete. The writeup should be completed in a separate file, which can be either a markdown file or a pdf document. There is a [write up template](https://github.com/udacity/CarND-LaneLines-P1/blob/master/writeup_template.md) that can be used to guide the writing process. Completing both the code in the Ipython notebook and the writeup template will cover all of the [rubric points](https://review.udacity.com/#!/rubrics/322/view) for this project.\n",
    "\n",
    "---\n",
    "Let's have a look at our first image called 'test_images/solidWhiteRight.jpg'.  Run the 2 cells below (hit Shift-Enter or the \"play\" button above) to display the image.\n",
    "\n",
    "**Note: If, at any point, you encounter frozen display windows or other confounding issues, you can always start again with a clean slate by going to the \"Kernel\" menu above and selecting \"Restart & Clear Output\".**\n",
    "\n",
    "---"
   ]
  },
  {
   "cell_type": "markdown",
   "metadata": {},
   "source": [
    "**The tools you have are color selection, region of interest selection, grayscaling, Gaussian smoothing, Canny Edge Detection and Hough Tranform line detection.  You  are also free to explore and try other techniques that were not presented in the lesson.  Your goal is piece together a pipeline to detect the line segments in the image, then average/extrapolate them and draw them onto the image for display (as below).  Once you have a working pipeline, try it out on the video stream below.**\n",
    "\n",
    "---\n",
    "\n",
    "<figure>\n",
    " <img src=\"examples/line-segments-example.jpg\" width=\"380\" alt=\"Combined Image\" />\n",
    " <figcaption>\n",
    " <p></p> \n",
    " <p style=\"text-align: center;\"> Your output should look something like this (above) after detecting line segments using the helper functions below </p> \n",
    " </figcaption>\n",
    "</figure>\n",
    " <p></p> \n",
    "<figure>\n",
    " <img src=\"examples/laneLines_thirdPass.jpg\" width=\"380\" alt=\"Combined Image\" />\n",
    " <figcaption>\n",
    " <p></p> \n",
    " <p style=\"text-align: center;\"> Your goal is to connect/average/extrapolate line segments to get output like this</p> \n",
    " </figcaption>\n",
    "</figure>"
   ]
  },
  {
   "cell_type": "markdown",
   "metadata": {},
   "source": [
    "**Run the cell below to import some packages.  If you get an `import error` for a package you've already installed, try changing your kernel (select the Kernel menu above --> Change Kernel).  Still have problems?  Try relaunching Jupyter Notebook from the terminal prompt.  Also, consult the forums for more troubleshooting tips.**  "
   ]
  },
  {
   "cell_type": "markdown",
   "metadata": {},
   "source": [
    "## Import Packages"
   ]
  },
  {
   "cell_type": "code",
   "execution_count": 3,
   "metadata": {},
   "outputs": [],
   "source": [
    "#importing some useful packages\n",
    "import matplotlib.pyplot as plt\n",
    "import matplotlib.image as mpimg\n",
    "import numpy as np\n",
    "import cv2\n",
    "from scipy import stats\n",
    "%matplotlib inline"
   ]
  },
  {
   "cell_type": "markdown",
   "metadata": {},
   "source": [
    "## Read in an Image"
   ]
  },
  {
   "cell_type": "code",
   "execution_count": 4,
   "metadata": {},
   "outputs": [
    {
     "name": "stdout",
     "output_type": "stream",
     "text": [
      "This image is: <class 'numpy.ndarray'> with dimensions: (540, 960, 3)\n"
     ]
    }
   ],
   "source": [
    "#reading in an image\n",
    "image_sWR = mpimg.imread('test_images/solidWhiteRight.jpg')\n",
    "\n",
    "#printing out some stats and plotting\n",
    "print('This image is:', type(image_sWR), 'with dimensions:', image_sWR.shape)\n",
    "#plt.imshow(image)  # if you wanted to show a single color channel image called 'gray', for example, call as plt.imshow(gray, cmap='gray')"
   ]
  },
  {
   "cell_type": "markdown",
   "metadata": {},
   "source": [
    "## Ideas for Lane Detection Pipeline"
   ]
  },
  {
   "cell_type": "markdown",
   "metadata": {},
   "source": [
    "**Some OpenCV functions (beyond those introduced in the lesson) that might be useful for this project are:**\n",
    "\n",
    "`cv2.inRange()` for color selection  \n",
    "`cv2.fillPoly()` for regions selection  \n",
    "`cv2.line()` to draw lines on an image given endpoints  \n",
    "`cv2.addWeighted()` to coadd / overlay two images\n",
    "`cv2.cvtColor()` to grayscale or change color\n",
    "`cv2.imwrite()` to output images to file  \n",
    "`cv2.bitwise_and()` to apply a mask to an image\n",
    "\n",
    "**Check out the OpenCV documentation to learn about these and discover even more awesome functionality!**"
   ]
  },
  {
   "cell_type": "markdown",
   "metadata": {},
   "source": [
    "## Helper Functions"
   ]
  },
  {
   "cell_type": "markdown",
   "metadata": {},
   "source": [
    "Below are some helper functions to help get you started. They should look familiar from the lesson!"
   ]
  },
  {
   "cell_type": "code",
   "execution_count": 49,
   "metadata": {},
   "outputs": [],
   "source": [
    "import math\n",
    "\n",
    "def grayscale(img):\n",
    "    \"\"\"Applies the Grayscale transform\n",
    "    This will return an image with only one color channel\n",
    "    but NOTE: to see the returned image as grayscale\n",
    "    (assuming your grayscaled image is called 'gray')\n",
    "    you should call plt.imshow(gray, cmap='gray')\"\"\"\n",
    "    return cv2.cvtColor(img, cv2.COLOR_RGB2GRAY)\n",
    "    # Or use BGR2GRAY if you read an image with cv2.imread()\n",
    "    # return cv2.cvtColor(img, cv2.COLOR_BGR2GRAY)\n",
    "    \n",
    "def canny(img, low_threshold, high_threshold):\n",
    "    \"\"\"Applies the Canny transform\"\"\"\n",
    "    return cv2.Canny(img, low_threshold, high_threshold)\n",
    "\n",
    "def gaussian_blur(img, kernel_size):\n",
    "    \"\"\"Applies a Gaussian Noise kernel\"\"\"\n",
    "    return cv2.GaussianBlur(img, (kernel_size, kernel_size), 0)\n",
    "\n",
    "def region_of_interest(img, vertices):\n",
    "    \"\"\"\n",
    "    Applies an image mask.\n",
    "    \n",
    "    Only keeps the region of the image defined by the polygon\n",
    "    formed from `vertices`. The rest of the image is set to black.\n",
    "    `vertices` should be a numpy array of integer points.\n",
    "    \"\"\"\n",
    "    #defining a blank mask to start with\n",
    "    mask = np.zeros_like(img)   \n",
    "    \n",
    "    #defining a 3 channel or 1 channel color to fill the mask with depending on the input image\n",
    "    if len(img.shape) > 2:\n",
    "        channel_count = img.shape[2]  # i.e. 3 or 4 depending on your image\n",
    "        ignore_mask_color = (255,) * channel_count\n",
    "    else:\n",
    "        ignore_mask_color = 255\n",
    "        \n",
    "    #filling pixels inside the polygon defined by \"vertices\" with the fill color    \n",
    "    cv2.fillPoly(mask, vertices, ignore_mask_color)\n",
    "    \n",
    "    #returning the image only where mask pixels are nonzero\n",
    "    masked_image = cv2.bitwise_and(img, mask)\n",
    "    return masked_image\n",
    "\n",
    "\n",
    "def draw_lines(img, lines, color=[255, 0, 0], thickness=10):\n",
    "    \"\"\"\n",
    "    NOTE: this is the function you might want to use as a starting point once you want to \n",
    "    average/extrapolate the line segments you detect to map out the full\n",
    "    extent of the lane (going from the result shown in raw-lines-example.mp4\n",
    "    to that shown in P1_example.mp4).  \n",
    "    \n",
    "    Think about things like separating line segments by their \n",
    "    slope ((y2-y1)/(x2-x1)) to decide which segments are part of the left\n",
    "    line vs. the right line.  Then, you can average the position of each of \n",
    "    the lines and extrapolate to the top and bottom of the lane.\n",
    "    \n",
    "    This function draws `lines` with `color` and `thickness`.    \n",
    "    Lines are drawn on the image inplace (mutates the image).\n",
    "    If you want to make the lines semi-transparent, think about combining\n",
    "    this function with the weighted_img() function below\n",
    "    \"\"\"\n",
    "    #for line in lines:\n",
    "        #for x1,y1,x2,y2 in line:\n",
    "            #cv2.line(img, (x1, y1), (x2, y2), color, thickness)\n",
    "    \n",
    "    xl = []\n",
    "    yl = []\n",
    "    xr = []\n",
    "    yr = []\n",
    "    xl_LR = []\n",
    "    yl_LR = []\n",
    "    xr_LR = []\n",
    "    yr_LR = []\n",
    "    middel_x = img.shape[1]/2\n",
    "    for line in lines:\n",
    "        for x1,y1,x2,y2 in line:\n",
    "            if ((y2-y1)/(x2-x1))<0 and ((y2-y1)/(x2-x1))>-math.inf and x1<middel_x and x2<middel_x:\n",
    "                xl.append(x1)\n",
    "                xl.append(x2)\n",
    "                yl.append(y1)\n",
    "                yl.append(y2)\n",
    "            elif ((y2-y1)/(x2-x1))>0 and ((y2-y1)/(x2-x1))<math.inf and x1>middel_x and x2>middel_x:\n",
    "                xr.append(x1)\n",
    "                xr.append(x2)\n",
    "                yr.append(y1)\n",
    "                yr.append(y2)\n",
    "\n",
    "            \n",
    "    slope_l, intercept_l, r_value_l, p_value_l, std_err = stats.linregress(xl, yl) \n",
    "    slope_r, intercept_r, r_value_r, p_value_r, std_err = stats.linregress(xr, yr)\n",
    "    \n",
    "    for x in xl:\n",
    "        yl_LR.append(intercept_l+slope_l*x)\n",
    "    for x in xr:\n",
    "        yr_LR.append(intercept_r+slope_r*x)\n",
    "        \n",
    "    \n",
    "    cv2.line(img, (int(min(xl)), int(max(yl_LR))), (int(max(xl)), int(min(yl_LR))), color, thickness)\n",
    "    cv2.line(img, (int(max(xr)), int(max(yr_LR))), (int(min(xr)), int(min(yr_LR))), color, thickness)\n",
    "    \n",
    "    '''\n",
    "    right_slopes = []\n",
    "    right_intercepts = []\n",
    "    left_slopes = []\n",
    "    left_intercepts = []\n",
    "    left_points_x = []\n",
    "    left_points_y = []\n",
    "    right_points_x = []\n",
    "    right_points_y = []\n",
    "    \n",
    "    y_max = img.shape[0]\n",
    "    y_min = img.shape[0]\n",
    "    \n",
    "    for line in lines:\n",
    "        for x1,y1,x2,y2 in line:\n",
    "            slope = (y2-y1)/(x2-x1)\n",
    "\n",
    "            if slope < 0.0 and slope > -math.inf:\n",
    "                left_slopes.append(slope) # left line\n",
    "                left_points_x.append(x1)\n",
    "                left_points_x.append(x2)\n",
    "                left_points_y.append(y1)\n",
    "                left_points_y.append(y2)\n",
    "                left_intercepts.append(y1 - slope*x1)\n",
    "            \n",
    "            if slope > 0.0 and slope < math.inf:\n",
    "                right_slopes.append(slope) # right line\n",
    "                right_points_x.append(x1)\n",
    "                right_points_x.append(x2)\n",
    "                right_points_y.append(y1)\n",
    "                right_points_y.append(y2)\n",
    "                right_intercepts.append(y1 - slope*x1)\n",
    "            \n",
    "            y_min = min(y1,y2,y_min)\n",
    "            \n",
    "\n",
    "            \n",
    "    if len(left_slopes) > 0:\n",
    "        left_slope = np.mean(left_slopes)\n",
    "        left_intercept = np.mean(left_intercepts)\n",
    "        x_min_left = int((y_min - left_intercept)/left_slope) \n",
    "        x_max_left = int((y_max - left_intercept)/left_slope)\n",
    "        cv2.line(img, (x_min_left, y_min), (x_max_left, y_max), [255, 0, 0], 8)\n",
    "    \n",
    "    if len(right_slopes) > 0:\n",
    "        right_slope = np.mean(right_slopes)\n",
    "        right_intercept = np.mean(right_intercepts)\n",
    "        x_min_right = int((y_min - right_intercept)/right_slope) \n",
    "        x_max_right = int((y_max - right_intercept)/right_slope)\n",
    "        cv2.line(img, (x_min_right, y_min), (x_max_right, y_max), [255, 0, 0], 8)'''\n",
    "    \n",
    "\n",
    "def hough_lines(img, rho, theta, threshold, min_line_len, max_line_gap):\n",
    "    \"\"\"\n",
    "    `img` should be the output of a Canny transform.\n",
    "        \n",
    "    Returns an image with hough lines drawn.\n",
    "    \"\"\"\n",
    "    lines = cv2.HoughLinesP(img, rho, theta, threshold, np.array([]), minLineLength=min_line_len, maxLineGap=max_line_gap)\n",
    "    #print(lines)\n",
    "    line_img = np.zeros((img.shape[0], img.shape[1], 3), dtype=np.uint8)\n",
    "    draw_lines(line_img, lines)\n",
    "    return line_img\n",
    "\n",
    "# Python 3 has support for cool math symbols.\n",
    "\n",
    "def weighted_img(img, initial_img, α=0.8, β=1., γ=0.):\n",
    "    \"\"\"\n",
    "    `img` is the output of the hough_lines(), An image with lines drawn on it.\n",
    "    Should be a blank image (all black) with lines drawn on it.\n",
    "    \n",
    "    `initial_img` should be the image before any processing.\n",
    "    \n",
    "    The result image is computed as follows:\n",
    "    \n",
    "    initial_img * α + img * β + γ\n",
    "    NOTE: initial_img and img must be the same shape!\n",
    "    \"\"\"\n",
    "    return cv2.addWeighted(initial_img, α, img, β, γ)\n",
    "\n",
    "def isolate_yellow_hsl(img):\n",
    "    # Caution - OpenCV encodes the data in ****HLS*** format\n",
    "    # Lower value equivalent pure HSL is (30, 45, 15)\n",
    "    low_threshold = np.array([15, 38, 115], dtype=np.uint8)\n",
    "    # Higher value equivalent pure HSL is (75, 100, 80)\n",
    "    high_threshold = np.array([35, 204, 255], dtype=np.uint8)  \n",
    "    \n",
    "    yellow_mask = cv2.inRange(img, low_threshold, high_threshold)\n",
    "    \n",
    "    return yellow_mask\n",
    "                            \n",
    "\n",
    "# Image should have already been converted to HSL color space\n",
    "def isolate_white_hsl(img):\n",
    "    # Caution - OpenCV encodes the data in ***HLS*** format\n",
    "    # Lower value equivalent pure HSL is (30, 45, 15)\n",
    "    low_threshold = np.array([0, 200, 0], dtype=np.uint8)\n",
    "    # Higher value equivalent pure HSL is (360, 100, 100)\n",
    "    high_threshold = np.array([180, 255, 255], dtype=np.uint8)  \n",
    "    \n",
    "    white_mask = cv2.inRange(img, low_threshold, high_threshold)\n",
    "    \n",
    "    return white_mask"
   ]
  },
  {
   "cell_type": "markdown",
   "metadata": {},
   "source": [
    "## Test Images\n",
    "\n",
    "Build your pipeline to work on the images in the directory \"test_images\"  \n",
    "**You should make sure your pipeline works well on these images before you try the videos.**"
   ]
  },
  {
   "cell_type": "code",
   "execution_count": 39,
   "metadata": {},
   "outputs": [
    {
     "data": {
      "text/plain": [
       "['solidYellowLeft.jpg',\n",
       " 'whiteCarLaneSwitch.jpg',\n",
       " 'solidWhiteRight.jpg',\n",
       " 'solidYellowCurve2.jpg',\n",
       " 'solidYellowCurve.jpg',\n",
       " 'solidWhiteCurve.jpg']"
      ]
     },
     "execution_count": 39,
     "metadata": {},
     "output_type": "execute_result"
    }
   ],
   "source": [
    "import os\n",
    "os.listdir(\"test_images/\")"
   ]
  },
  {
   "cell_type": "markdown",
   "metadata": {},
   "source": [
    "## Build a Lane Finding Pipeline\n",
    "\n"
   ]
  },
  {
   "cell_type": "markdown",
   "metadata": {},
   "source": [
    "Build the pipeline and run your solution on all test_images. Make copies into the `test_images_output` directory, and you can use the images in your writeup report.\n",
    "\n",
    "Try tuning the various parameters, especially the low and high Canny thresholds as well as the Hough lines parameters."
   ]
  },
  {
   "cell_type": "code",
   "execution_count": 57,
   "metadata": {},
   "outputs": [],
   "source": [
    "# TODO: Build your pipeline that will draw lane lines on the test_images\n",
    "# then save them to the test_images_output directory.\n",
    "\n",
    "image_wCLS = mpimg.imread('test_images/whiteCarLaneSwitch.jpg')\n",
    "image_sYL = mpimg.imread('test_images/solidYellowLeft.jpg')\n",
    "image_sYC2 = mpimg.imread('test_images/solidYellowCurve2.jpg')\n",
    "image_sYC = mpimg.imread('test_images/solidYellowCurve.jpg')\n",
    "image_sWC = mpimg.imread('test_images/solidWhiteCurve.jpg')\n",
    "def Lane_Detect(image):\n",
    "    \n",
    "    image_gray = grayscale(image)\n",
    "    #plt.imshow(image_gray)\n",
    "    # Smoothing the image\n",
    "    kernal_size = 11\n",
    "    blur_image = cv2.GaussianBlur(image_gray,(kernal_size,kernal_size),0)\n",
    "    # Setup Canny\n",
    "    low_threshold = 10\n",
    "    high_threshold = 150\n",
    "    edges_image = cv2.Canny(blur_image,low_threshold,high_threshold)\n",
    "    #plt.imshow(edges_image)\n",
    "    # Define range of interest\n",
    "    imshape = image.shape\n",
    "    vertices = np.array([[(30,imshape[0]),(410, 320), (550, 320), (imshape[1],imshape[0])]], dtype=np.int32)\n",
    "    masked_image = region_of_interest(edges_image,vertices) \n",
    "    #plt.imshow(masked_image)\n",
    "    hough_image = hough_lines(masked_image, 1, np.pi/180, 1, 5, 1)\n",
    "\n",
    "    Final_image = weighted_img(hough_image,image)\n",
    "    #plt.imshow(masked_image)\n",
    "    #plt.imshow(hough_image)\n",
    "    #plt.imshow(Final_image)\n",
    "    \n",
    "    return Final_image\n",
    "\n",
    "    \n",
    "Final_wCLS = Lane_Detect(image_wCLS)\n",
    "plt.imsave('test_images_output/whiteCarLaneSwitch_output.png',Final_wCLS)\n",
    "Final_sWR = Lane_Detect(image_sWR)\n",
    "plt.imsave('test_images_output/solidWhiteRight.png',Final_sWR)\n",
    "Final_sYL = Lane_Detect(image_sYL)\n",
    "plt.imsave('test_images_output/solidYellowLeft.png',Final_sYL)\n",
    "Final_sYC2 = Lane_Detect(image_sYC2)\n",
    "plt.imsave('test_images_output/solidYellowCurve2',Final_sYC2)\n",
    "Final_sYC = Lane_Detect(image_sYC)\n",
    "plt.imsave('test_images_output/solidYellowCurve',Final_sYC)\n",
    "Final_sWC = Lane_Detect(image_sWC)\n",
    "plt.imsave('test_images_output/solidWhiteCurve',Final_sWC)"
   ]
  },
  {
   "cell_type": "markdown",
   "metadata": {},
   "source": [
    "## Test on Videos\n",
    "\n",
    "You know what's cooler than drawing lanes over images? Drawing lanes over video!\n",
    "\n",
    "We can test our solution on two provided videos:\n",
    "\n",
    "`solidWhiteRight.mp4`\n",
    "\n",
    "`solidYellowLeft.mp4`\n",
    "\n",
    "**Note: if you get an import error when you run the next cell, try changing your kernel (select the Kernel menu above --> Change Kernel). Still have problems? Try relaunching Jupyter Notebook from the terminal prompt. Also, consult the forums for more troubleshooting tips.**\n",
    "\n",
    "**If you get an error that looks like this:**\n",
    "```\n",
    "NeedDownloadError: Need ffmpeg exe. \n",
    "You can download it by calling: \n",
    "imageio.plugins.ffmpeg.download()\n",
    "```\n",
    "**Follow the instructions in the error message and check out [this forum post](https://discussions.udacity.com/t/project-error-of-test-on-videos/274082) for more troubleshooting tips across operating systems.**"
   ]
  },
  {
   "cell_type": "code",
   "execution_count": 21,
   "metadata": {},
   "outputs": [],
   "source": [
    "# Import everything needed to edit/save/watch video clips\n",
    "from moviepy.editor import VideoFileClip\n",
    "from IPython.display import HTML"
   ]
  },
  {
   "cell_type": "code",
   "execution_count": 55,
   "metadata": {},
   "outputs": [],
   "source": [
    "def process_image(image):\n",
    "    # NOTE: The output you return should be a color image (3 channel) for processing video below\n",
    "    # TODO: put your pipeline here,\n",
    "    # you should return the final output (image where lines are drawn on lanes)\n",
    "    \n",
    "    image_gray = grayscale(image)\n",
    "    #plt.imshow(image_gray)\n",
    "    # Smoothing the image\n",
    "    kernal_size = 11\n",
    "    blur_image = cv2.GaussianBlur(image_gray,(kernal_size,kernal_size),0)\n",
    "    # Setup Canny\n",
    "    low_threshold = 10\n",
    "    high_threshold = 150\n",
    "    edges_image = cv2.Canny(blur_image,low_threshold,high_threshold)\n",
    "    #plt.imshow(edges_image)\n",
    "    # Define range of interest\n",
    "    imshape = image.shape\n",
    "    vertices = np.array([[(30,imshape[0]),(410, 320), (550, 320), (imshape[1],imshape[0])]], dtype=np.int32)\n",
    "    masked_image = region_of_interest(edges_image,vertices) \n",
    "    #plt.imshow(masked_image)\n",
    "    hough_image = hough_lines(masked_image, 1, np.pi/180, 1, 5, 1)\n",
    "\n",
    "    Final_image = weighted_img(hough_image,image)\n",
    "    \n",
    "    return Final_image"
   ]
  },
  {
   "cell_type": "markdown",
   "metadata": {},
   "source": [
    "Let's try the one with the solid white lane on the right first ..."
   ]
  },
  {
   "cell_type": "code",
   "execution_count": 58,
   "metadata": {},
   "outputs": [
    {
     "name": "stdout",
     "output_type": "stream",
     "text": [
      "[MoviePy] >>>> Building video test_videos_output/solidWhiteRight.mp4\n",
      "[MoviePy] Writing video test_videos_output/solidWhiteRight.mp4\n"
     ]
    },
    {
     "name": "stderr",
     "output_type": "stream",
     "text": [
      " 99%|█████████▉| 125/126 [00:04<00:00, 25.51it/s]\n"
     ]
    },
    {
     "name": "stdout",
     "output_type": "stream",
     "text": [
      "[MoviePy] Done.\n",
      "[MoviePy] >>>> Video ready: test_videos_output/solidWhiteRight.mp4 \n",
      "\n",
      "CPU times: user 14.1 s, sys: 317 ms, total: 14.5 s\n",
      "Wall time: 5.62 s\n"
     ]
    }
   ],
   "source": [
    "white_output = 'test_videos_output/solidWhiteRight.mp4'\n",
    "## To speed up the testing process you may want to try your pipeline on a shorter subclip of the video\n",
    "## To do so add .subclip(start_second,end_second) to the end of the line below\n",
    "## Where start_second and end_second are integer values representing the start and end of the subclip\n",
    "## You may also uncomment the following line for a subclip of the first 5 seconds\n",
    "clip1 = VideoFileClip(\"test_videos/solidWhiteRight.mp4\").subclip(0,5)\n",
    "#clip1 = VideoFileClip(\"test_videos/solidWhiteRight.mp4\")\n",
    "white_clip = clip1.fl_image(process_image) #NOTE: this function expects color images!!\n",
    "%time white_clip.write_videofile(white_output, audio=False)"
   ]
  },
  {
   "cell_type": "markdown",
   "metadata": {},
   "source": [
    "Play the video inline, or if you prefer find the video in your filesystem (should be in the same directory) and play it in your video player of choice."
   ]
  },
  {
   "cell_type": "code",
   "execution_count": null,
   "metadata": {},
   "outputs": [],
   "source": [
    "HTML(\"\"\"\n",
    "<video width=\"960\" height=\"540\" controls>\n",
    "  <source src=\"{0}\">\n",
    "</video>\n",
    "\"\"\".format(white_output))"
   ]
  },
  {
   "cell_type": "markdown",
   "metadata": {},
   "source": [
    "## Improve the draw_lines() function\n",
    "\n",
    "**At this point, if you were successful with making the pipeline and tuning parameters, you probably have the Hough line segments drawn onto the road, but what about identifying the full extent of the lane and marking it clearly as in the example video (P1_example.mp4)?  Think about defining a line to run the full length of the visible lane based on the line segments you identified with the Hough Transform. As mentioned previously, try to average and/or extrapolate the line segments you've detected to map out the full extent of the lane lines. You can see an example of the result you're going for in the video \"P1_example.mp4\".**\n",
    "\n",
    "**Go back and modify your draw_lines function accordingly and try re-running your pipeline. The new output should draw a single, solid line over the left lane line and a single, solid line over the right lane line. The lines should start from the bottom of the image and extend out to the top of the region of interest.**"
   ]
  },
  {
   "cell_type": "markdown",
   "metadata": {},
   "source": [
    "Now for the one with the solid yellow lane on the left. This one's more tricky!"
   ]
  },
  {
   "cell_type": "code",
   "execution_count": null,
   "metadata": {},
   "outputs": [],
   "source": [
    "yellow_output = 'test_videos_output/solidYellowLeft.mp4'\n",
    "## To speed up the testing process you may want to try your pipeline on a shorter subclip of the video\n",
    "## To do so add .subclip(start_second,end_second) to the end of the line below\n",
    "## Where start_second and end_second are integer values representing the start and end of the subclip\n",
    "## You may also uncomment the following line for a subclip of the first 5 seconds\n",
    "##clip2 = VideoFileClip('test_videos/solidYellowLeft.mp4').subclip(0,5)\n",
    "clip2 = VideoFileClip('test_videos/solidYellowLeft.mp4')\n",
    "yellow_clip = clip2.fl_image(process_image)\n",
    "%time yellow_clip.write_videofile(yellow_output, audio=False)"
   ]
  },
  {
   "cell_type": "code",
   "execution_count": null,
   "metadata": {},
   "outputs": [],
   "source": [
    "HTML(\"\"\"\n",
    "<video width=\"960\" height=\"540\" controls>\n",
    "  <source src=\"{0}\">\n",
    "</video>\n",
    "\"\"\".format(yellow_output))"
   ]
  },
  {
   "cell_type": "markdown",
   "metadata": {},
   "source": [
    "## Writeup and Submission\n",
    "\n",
    "If you're satisfied with your video outputs, it's time to make the report writeup in a pdf or markdown file. Once you have this Ipython notebook ready along with the writeup, it's time to submit for review! Here is a [link](https://github.com/udacity/CarND-LaneLines-P1/blob/master/writeup_template.md) to the writeup template file.\n"
   ]
  },
  {
   "cell_type": "markdown",
   "metadata": {
    "collapsed": true
   },
   "source": [
    "## Optional Challenge\n",
    "\n",
    "Try your lane finding pipeline on the video below.  Does it still work?  Can you figure out a way to make it more robust?  If you're up for the challenge, modify your pipeline so it works with this video and submit it along with the rest of your project!"
   ]
  },
  {
   "cell_type": "code",
   "execution_count": null,
   "metadata": {
    "collapsed": true
   },
   "outputs": [],
   "source": [
    "challenge_output = 'test_videos_output/challenge.mp4'\n",
    "## To speed up the testing process you may want to try your pipeline on a shorter subclip of the video\n",
    "## To do so add .subclip(start_second,end_second) to the end of the line below\n",
    "## Where start_second and end_second are integer values representing the start and end of the subclip\n",
    "## You may also uncomment the following line for a subclip of the first 5 seconds\n",
    "##clip3 = VideoFileClip('test_videos/challenge.mp4').subclip(0,5)\n",
    "clip3 = VideoFileClip('test_videos/challenge.mp4')\n",
    "challenge_clip = clip3.fl_image(process_image)\n",
    "%time challenge_clip.write_videofile(challenge_output, audio=False)"
   ]
  },
  {
   "cell_type": "code",
   "execution_count": null,
   "metadata": {
    "collapsed": true
   },
   "outputs": [],
   "source": [
    "HTML(\"\"\"\n",
    "<video width=\"960\" height=\"540\" controls>\n",
    "  <source src=\"{0}\">\n",
    "</video>\n",
    "\"\"\".format(challenge_output))"
   ]
  }
 ],
 "metadata": {
  "anaconda-cloud": {},
  "kernelspec": {
   "display_name": "Python 3",
   "language": "python",
   "name": "python3"
  },
  "language_info": {
   "codemirror_mode": {
    "name": "ipython",
    "version": 3
   },
   "file_extension": ".py",
   "mimetype": "text/x-python",
   "name": "python",
   "nbconvert_exporter": "python",
   "pygments_lexer": "ipython3",
   "version": "3.5.2"
  },
  "widgets": {
   "state": {},
   "version": "1.1.2"
  }
 },
 "nbformat": 4,
 "nbformat_minor": 1
}
